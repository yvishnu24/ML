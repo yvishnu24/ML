{
 "cells": [
  {
   "cell_type": "code",
   "execution_count": 1,
   "metadata": {},
   "outputs": [
    {
     "name": "stdout",
     "output_type": "stream",
     "text": [
      "<class 'sklearn.utils.Bunch'>\n"
     ]
    }
   ],
   "source": [
    "from sklearn.datasets import load_iris\n",
    "iris_data = load_iris()\n",
    "print(type(iris_data))"
   ]
  },
  {
   "cell_type": "code",
   "execution_count": 2,
   "metadata": {},
   "outputs": [
    {
     "name": "stdout",
     "output_type": "stream",
     "text": [
      "dict_keys(['data', 'target', 'frame', 'target_names', 'DESCR', 'feature_names', 'filename'])\n"
     ]
    }
   ],
   "source": [
    "print(iris_data.keys())"
   ]
  },
  {
   "cell_type": "code",
   "execution_count": 3,
   "metadata": {},
   "outputs": [
    {
     "name": "stdout",
     "output_type": "stream",
     "text": [
      ".. _iris_dataset:\n",
      "\n",
      "Iris plants dataset\n",
      "--------------------\n",
      "\n",
      "**Data Set Characteristics:**\n",
      "\n",
      "    :Number of Instances: 150 (50 in each of three classes)\n",
      "    :Number of Attributes: 4 numeric, predictive attributes and the class\n",
      "    :Attribute Information:\n",
      "        - sepal length in cm\n",
      "        - sepal width in cm\n",
      "        - petal length in cm\n",
      "        - petal width in cm\n",
      "        - class:\n",
      "                - Iris-Setosa\n",
      "                - Iris-Versicolour\n",
      "                - Iris-Virginica\n",
      "                \n",
      "    :Summary Statistics:\n",
      "\n",
      "    ============== ==== ==== ======= ===== ====================\n",
      "                    Min  Max   Mean    SD   Class Correlation\n",
      "    ============== ==== ==== ======= ===== ====================\n",
      "    sepal length:   4.3  7.9   5.84   0.83    0.7826\n",
      "    sepal width:    2.0  4.4   3.05   0.43   -0.4194\n",
      "    petal length:   1.0  6.9   3.76   1.76    0.9490  (high!)\n",
      "    petal width:    0.1  2.5   1.20   0.76    0.9565  (high!)\n",
      "    ============== ==== ==== ======= ===== ====================\n",
      "\n",
      "    :Missing Attribute Values: None\n",
      "    :Class Distribution: 33.3% for each of 3 classes.\n",
      "    :Creator: R.A. Fisher\n",
      "    :Donor: Michael Marshall (MARSHALL%PLU@io.arc.nasa.gov)\n",
      "    :Date: July, 1988\n",
      "\n",
      "The famous Iris database, first used by Sir R.A. Fisher. The dataset is taken\n",
      "from Fisher's paper. Note that it's the same as in R, but not as in the UCI\n",
      "Machine Learning Repository, which has two wrong data points.\n",
      "\n",
      "This is perhaps the best known database to be found in the\n",
      "pattern recognition literature.  Fisher's paper is a classic in the field and\n",
      "is referenced frequently to this day.  (See Duda & Hart, for example.)  The\n",
      "data set contains 3 classes of 50 instances each, where each class refers to a\n",
      "type of iris plant.  One class is linearly separable from the other 2; the\n",
      "latter are NOT linearly separable from each other.\n",
      "\n",
      ".. topic:: References\n",
      "\n",
      "   - Fisher, R.A. \"The use of multiple measurements in taxonomic problems\"\n",
      "     Annual Eugenics, 7, Part II, 179-188 (1936); also in \"Contributions to\n",
      "     Mathematical Statistics\" (John Wiley, NY, 1950).\n",
      "   - Duda, R.O., & Hart, P.E. (1973) Pattern Classification and Scene Analysis.\n",
      "     (Q327.D83) John Wiley & Sons.  ISBN 0-471-22361-1.  See page 218.\n",
      "   - Dasarathy, B.V. (1980) \"Nosing Around the Neighborhood: A New System\n",
      "     Structure and Classification Rule for Recognition in Partially Exposed\n",
      "     Environments\".  IEEE Transactions on Pattern Analysis and Machine\n",
      "     Intelligence, Vol. PAMI-2, No. 1, 67-71.\n",
      "   - Gates, G.W. (1972) \"The Reduced Nearest Neighbor Rule\".  IEEE Transactions\n",
      "     on Information Theory, May 1972, 431-433.\n",
      "   - See also: 1988 MLC Proceedings, 54-64.  Cheeseman et al\"s AUTOCLASS II\n",
      "     conceptual clustering system finds 3 classes in the data.\n",
      "   - Many, many more ...\n"
     ]
    }
   ],
   "source": [
    "print(iris_data.DESCR)"
   ]
  },
  {
   "cell_type": "code",
   "execution_count": 4,
   "metadata": {},
   "outputs": [
    {
     "name": "stdout",
     "output_type": "stream",
     "text": [
      "<class 'numpy.ndarray'>\n",
      "(150, 4)\n",
      "(150,)\n"
     ]
    }
   ],
   "source": [
    "print(type(iris_data.data))\n",
    "print(iris_data.data.shape)\n",
    "print(iris_data.target.shape)"
   ]
  },
  {
   "cell_type": "code",
   "execution_count": 5,
   "metadata": {},
   "outputs": [
    {
     "name": "stdout",
     "output_type": "stream",
     "text": [
      "[5.1 3.5 1.4 0.2]\n",
      "[0 0 0 0 0]\n"
     ]
    }
   ],
   "source": [
    "print(iris_data.data[0])\n",
    "print(iris_data.target[0:5])"
   ]
  },
  {
   "cell_type": "code",
   "execution_count": 6,
   "metadata": {},
   "outputs": [
    {
     "name": "stdout",
     "output_type": "stream",
     "text": [
      "(105, 4) (105,) (45, 4) (45,)\n"
     ]
    }
   ],
   "source": [
    "from sklearn.model_selection import train_test_split\n",
    "X_train, X_test, y_train, y_test = train_test_split(iris_data.data, iris_data.target, test_size=0.30)\n",
    "print(X_train.shape, y_train.shape, X_test.shape, y_test.shape)\n"
   ]
  },
  {
   "cell_type": "code",
   "execution_count": 7,
   "metadata": {},
   "outputs": [],
   "source": [
    "from sklearn import linear_model\n",
    "\n",
    "logistic = linear_model.LogisticRegression(solver='lbfgs', max_iter=5000)"
   ]
  },
  {
   "cell_type": "code",
   "execution_count": 8,
   "metadata": {},
   "outputs": [
    {
     "name": "stdout",
     "output_type": "stream",
     "text": [
      "LogisticRegression score:1.0\n"
     ]
    }
   ],
   "source": [
    "logistic = logistic.fit(X_train, y_train)\n",
    "score = logistic.score(X_test, y_test)\n",
    "print('LogisticRegression score:{}'.format(score))"
   ]
  },
  {
   "cell_type": "code",
   "execution_count": 9,
   "metadata": {},
   "outputs": [
    {
     "name": "stdout",
     "output_type": "stream",
     "text": [
      "[1 1 2 1 0 0 2 2 1 2 2 1 1 1 1 0 0 2 2 0 2 0 1 1 2 1 1 2 2 0 0 2 1 0 0 2 0\n",
      " 2 2 1 2 2 0 1 0]\n"
     ]
    }
   ],
   "source": [
    "ypred_test= logistic.predict(X_test)\n",
    "print(ypred_test)"
   ]
  },
  {
   "cell_type": "code",
   "execution_count": 10,
   "metadata": {},
   "outputs": [
    {
     "name": "stdout",
     "output_type": "stream",
     "text": [
      "[1 1 2 1 0 0 2 2 1 2 2 1 1 1 1 0 0 2 2 0 2 0 1 1 2 1 1 2 2 0 0 2 1 0 0 2 0\n",
      " 2 2 1 2 2 0 1 0]\n"
     ]
    }
   ],
   "source": [
    "print(y_test)"
   ]
  },
  {
   "cell_type": "code",
   "execution_count": 22,
   "metadata": {},
   "outputs": [],
   "source": [
    "for i in range(len(y_test)):\n",
    "    if (y_test[i] != ypred_test[i]):\n",
    "        print(i, y_test[i], ypred_test[i])"
   ]
  },
  {
   "cell_type": "code",
   "execution_count": 23,
   "metadata": {},
   "outputs": [
    {
     "name": "stdout",
     "output_type": "stream",
     "text": [
      "classes [0 1 2]\n",
      "Total feature weights (3, 4)\n",
      "Total Bias weights (3,)\n",
      "Total iterations [113]\n"
     ]
    }
   ],
   "source": [
    "print(\"classes\", logistic.classes_)\n",
    "print(\"Total feature weights\", logistic.coef_.shape)\n",
    "print(\"Total Bias weights\", logistic.intercept_.shape) \n",
    "print(\"Total iterations\", logistic.n_iter_) "
   ]
  },
  {
   "cell_type": "code",
   "execution_count": 13,
   "metadata": {},
   "outputs": [
    {
     "name": "stdout",
     "output_type": "stream",
     "text": [
      "[[-4.27255909 -0.32824891 -1.32474702]\n",
      " [-4.59610432 -0.20095554 -1.76049263]]\n",
      "[[0.01394605 0.72018374 0.26587021]\n",
      " [0.01009107 0.8179488  0.17196013]]\n"
     ]
    }
   ],
   "source": [
    "ypred_logproba= logistic.predict_log_proba(X_test[0:2])\n",
    "print(ypred_logproba)\n",
    "ypred_proba= logistic.predict_proba(X_test[0:2])\n",
    "print(ypred_proba)"
   ]
  },
  {
   "cell_type": "code",
   "execution_count": 14,
   "metadata": {},
   "outputs": [
    {
     "name": "stdout",
     "output_type": "stream",
     "text": [
      "Knn with K =3 train score:0.9523809523809523\n",
      "Knn with K =3 test score:0.9777777777777777\n"
     ]
    }
   ],
   "source": [
    "#KNN\n",
    "from sklearn.neighbors import KNeighborsClassifier\n",
    "\n",
    "neigh = KNeighborsClassifier(n_neighbors=3)\n",
    "neigh.fit(X_train, y_train)\n",
    "train_score = neigh.score(X_train, y_train)\n",
    "test_score = neigh.score(X_test, y_test)\n",
    "print('Knn with K =3 train score:{}'.format(train_score))\n",
    "print('Knn with K =3 test score:{}'.format(test_score))"
   ]
  },
  {
   "cell_type": "code",
   "execution_count": 15,
   "metadata": {},
   "outputs": [
    {
     "data": {
      "text/plain": [
       "(array([[0.2       , 0.3       , 0.38729833],\n",
       "        [0.26457513, 0.31622777, 0.34641016],\n",
       "        [0.3       , 0.31622777, 0.4       ],\n",
       "        [0.2       , 0.24494897, 0.3       ],\n",
       "        [0.14142136, 0.14142136, 0.17320508],\n",
       "        [0.36055513, 0.37416574, 0.41231056],\n",
       "        [0.24494897, 0.36055513, 0.42426407],\n",
       "        [0.63245553, 0.67082039, 0.75498344],\n",
       "        [0.26457513, 0.31622777, 0.42426407],\n",
       "        [0.        , 0.26457513, 0.31622777],\n",
       "        [0.33166248, 0.36055513, 0.37416574],\n",
       "        [0.24494897, 0.31622777, 0.37416574],\n",
       "        [0.50990195, 0.51961524, 0.53851648],\n",
       "        [0.24494897, 0.26457513, 0.26457513],\n",
       "        [0.14142136, 0.3       , 0.34641016],\n",
       "        [0.14142136, 0.17320508, 0.26457513],\n",
       "        [0.2       , 0.2236068 , 0.2236068 ],\n",
       "        [0.17320508, 0.36055513, 0.37416574],\n",
       "        [0.26457513, 0.34641016, 0.37416574],\n",
       "        [0.14142136, 0.14142136, 0.14142136],\n",
       "        [0.41231056, 0.7       , 0.96953597],\n",
       "        [0.34641016, 0.34641016, 0.37416574],\n",
       "        [0.24494897, 0.33166248, 0.34641016],\n",
       "        [0.38729833, 0.38729833, 0.72111026],\n",
       "        [0.43588989, 0.54772256, 0.55677644],\n",
       "        [0.42426407, 0.43588989, 0.6164414 ],\n",
       "        [0.37416574, 0.42426407, 0.51961524],\n",
       "        [0.41231056, 0.92736185, 1.02469508],\n",
       "        [0.3       , 0.37416574, 0.38729833],\n",
       "        [0.26457513, 0.31622777, 0.31622777],\n",
       "        [0.1       , 0.14142136, 0.14142136],\n",
       "        [0.55677644, 0.6164414 , 0.6164414 ],\n",
       "        [0.14142136, 0.26457513, 0.43588989],\n",
       "        [0.14142136, 0.14142136, 0.2236068 ],\n",
       "        [0.24494897, 0.31622777, 0.34641016],\n",
       "        [0.2236068 , 0.34641016, 0.36055513],\n",
       "        [0.2236068 , 0.28284271, 0.3       ],\n",
       "        [0.24494897, 0.24494897, 0.33166248],\n",
       "        [0.54772256, 0.54772256, 0.80622577],\n",
       "        [0.26457513, 0.28284271, 0.3       ],\n",
       "        [0.3       , 0.31622777, 0.38729833],\n",
       "        [0.45825757, 0.46904158, 0.50990195],\n",
       "        [0.2236068 , 0.2236068 , 0.24494897],\n",
       "        [0.31622777, 0.34641016, 0.34641016],\n",
       "        [0.17320508, 0.2       , 0.2236068 ]]),\n",
       " array([[ 10,  99,  33],\n",
       "        [ 48,  18,  79],\n",
       "        [ 44,  16,  66],\n",
       "        [ 34,  90,  97],\n",
       "        [100,  27,  13],\n",
       "        [ 25,  31,   3],\n",
       "        [ 26,  96,  19],\n",
       "        [ 16,  44,  40],\n",
       "        [ 53,  99,  33],\n",
       "        [ 80,  83,  39],\n",
       "        [ 89,   5,  62],\n",
       "        [ 49,  18,  29],\n",
       "        [ 70,  54,  90],\n",
       "        [ 82,  54,  90],\n",
       "        [  8,  95,  63],\n",
       "        [ 13,  57,  41],\n",
       "        [ 13,  98,  27],\n",
       "        [ 96,  44,  66],\n",
       "        [ 44,  16,  66],\n",
       "        [ 77,  15,  12],\n",
       "        [ 14,  52,  93],\n",
       "        [ 25,  60,  88],\n",
       "        [  8,  74,  63],\n",
       "        [ 84,  24,  20],\n",
       "        [ 93,  40,  55],\n",
       "        [ 97,  90,  82],\n",
       "        [ 48,  32,  74],\n",
       "        [  9,  52,  93],\n",
       "        [ 51,  19,  72],\n",
       "        [103,   1,  35],\n",
       "        [ 13,  57,  27],\n",
       "        [ 36,  42,  75],\n",
       "        [ 97,  90,  34],\n",
       "        [  0, 103,   1],\n",
       "        [ 76,   1,  73],\n",
       "        [ 19,  37,  75],\n",
       "        [ 35,  98,  65],\n",
       "        [ 75,  58,  36],\n",
       "        [ 52,  14,  93],\n",
       "        [ 54,  82,  90],\n",
       "        [ 42,  36,  66],\n",
       "        [ 40,  93,  55],\n",
       "        [ 28,  27,  77],\n",
       "        [ 49,  29,  86],\n",
       "        [ 77,  46,  65]], dtype=int64))"
      ]
     },
     "execution_count": 15,
     "metadata": {},
     "output_type": "execute_result"
    }
   ],
   "source": [
    "neigh.kneighbors(X_test)"
   ]
  },
  {
   "cell_type": "code",
   "execution_count": 16,
   "metadata": {},
   "outputs": [
    {
     "data": {
      "text/plain": [
       "array([[0.        , 0.        , 0.        , 0.        , 0.        ,\n",
       "        0.        , 0.        , 0.        , 0.        , 0.        ,\n",
       "        0.2       , 0.        , 0.        , 0.        , 0.        ,\n",
       "        0.        , 0.        , 0.        , 0.        , 0.        ,\n",
       "        0.        , 0.        , 0.        , 0.        , 0.        ,\n",
       "        0.        , 0.        , 0.        , 0.        , 0.        ,\n",
       "        0.        , 0.        , 0.        , 0.38729833, 0.        ,\n",
       "        0.        , 0.        , 0.        , 0.        , 0.        ,\n",
       "        0.        , 0.        , 0.        , 0.        , 0.        ,\n",
       "        0.        , 0.        , 0.        , 0.        , 0.        ,\n",
       "        0.        , 0.        , 0.        , 0.        , 0.        ,\n",
       "        0.        , 0.        , 0.        , 0.        , 0.        ,\n",
       "        0.        , 0.        , 0.        , 0.        , 0.        ,\n",
       "        0.        , 0.        , 0.        , 0.        , 0.        ,\n",
       "        0.        , 0.        , 0.        , 0.        , 0.        ,\n",
       "        0.        , 0.        , 0.        , 0.        , 0.        ,\n",
       "        0.        , 0.        , 0.        , 0.        , 0.        ,\n",
       "        0.        , 0.        , 0.        , 0.        , 0.        ,\n",
       "        0.        , 0.        , 0.        , 0.        , 0.        ,\n",
       "        0.        , 0.        , 0.        , 0.        , 0.3       ,\n",
       "        0.        , 0.        , 0.        , 0.        , 0.        ],\n",
       "       [0.        , 0.        , 0.        , 0.        , 0.        ,\n",
       "        0.        , 0.        , 0.        , 0.        , 0.        ,\n",
       "        0.        , 0.        , 0.        , 0.        , 0.        ,\n",
       "        0.        , 0.        , 0.        , 0.31622777, 0.        ,\n",
       "        0.        , 0.        , 0.        , 0.        , 0.        ,\n",
       "        0.        , 0.        , 0.        , 0.        , 0.        ,\n",
       "        0.        , 0.        , 0.        , 0.        , 0.        ,\n",
       "        0.        , 0.        , 0.        , 0.        , 0.        ,\n",
       "        0.        , 0.        , 0.        , 0.        , 0.        ,\n",
       "        0.        , 0.        , 0.        , 0.26457513, 0.        ,\n",
       "        0.        , 0.        , 0.        , 0.        , 0.        ,\n",
       "        0.        , 0.        , 0.        , 0.        , 0.        ,\n",
       "        0.        , 0.        , 0.        , 0.        , 0.        ,\n",
       "        0.        , 0.        , 0.        , 0.        , 0.        ,\n",
       "        0.        , 0.        , 0.        , 0.        , 0.        ,\n",
       "        0.        , 0.        , 0.        , 0.        , 0.34641016,\n",
       "        0.        , 0.        , 0.        , 0.        , 0.        ,\n",
       "        0.        , 0.        , 0.        , 0.        , 0.        ,\n",
       "        0.        , 0.        , 0.        , 0.        , 0.        ,\n",
       "        0.        , 0.        , 0.        , 0.        , 0.        ,\n",
       "        0.        , 0.        , 0.        , 0.        , 0.        ],\n",
       "       [0.        , 0.        , 0.        , 0.        , 0.        ,\n",
       "        0.        , 0.        , 0.        , 0.        , 0.        ,\n",
       "        0.        , 0.        , 0.        , 0.        , 0.        ,\n",
       "        0.        , 0.31622777, 0.        , 0.        , 0.        ,\n",
       "        0.        , 0.        , 0.        , 0.        , 0.        ,\n",
       "        0.        , 0.        , 0.        , 0.        , 0.        ,\n",
       "        0.        , 0.        , 0.        , 0.        , 0.        ,\n",
       "        0.        , 0.        , 0.        , 0.        , 0.        ,\n",
       "        0.        , 0.        , 0.        , 0.        , 0.3       ,\n",
       "        0.        , 0.        , 0.        , 0.        , 0.        ,\n",
       "        0.        , 0.        , 0.        , 0.        , 0.        ,\n",
       "        0.        , 0.        , 0.        , 0.        , 0.        ,\n",
       "        0.        , 0.        , 0.        , 0.        , 0.        ,\n",
       "        0.        , 0.4       , 0.        , 0.        , 0.        ,\n",
       "        0.        , 0.        , 0.        , 0.        , 0.        ,\n",
       "        0.        , 0.        , 0.        , 0.        , 0.        ,\n",
       "        0.        , 0.        , 0.        , 0.        , 0.        ,\n",
       "        0.        , 0.        , 0.        , 0.        , 0.        ,\n",
       "        0.        , 0.        , 0.        , 0.        , 0.        ,\n",
       "        0.        , 0.        , 0.        , 0.        , 0.        ,\n",
       "        0.        , 0.        , 0.        , 0.        , 0.        ]])"
      ]
     },
     "execution_count": 16,
     "metadata": {},
     "output_type": "execute_result"
    }
   ],
   "source": [
    "neigh.kneighbors_graph(X_test[0:3], mode='distance').toarray()"
   ]
  },
  {
   "cell_type": "code",
   "execution_count": 17,
   "metadata": {},
   "outputs": [
    {
     "name": "stdout",
     "output_type": "stream",
     "text": [
      "Knn with K =3 train score:1.0\n",
      "Knn with K =3 test score:0.9777777777777777\n"
     ]
    }
   ],
   "source": [
    "neigh = KNeighborsClassifier(n_neighbors=3, weights='distance')\n",
    "neigh.fit(X_train, y_train)\n",
    "train_score = neigh.score(X_train, y_train)\n",
    "test_score = neigh.score(X_test, y_test)\n",
    "print('Knn with K =3 train score:{}'.format(train_score))\n",
    "print('Knn with K =3 test score:{}'.format(test_score))\n",
    "    "
   ]
  },
  {
   "cell_type": "code",
   "execution_count": 18,
   "metadata": {},
   "outputs": [
    {
     "name": "stdout",
     "output_type": "stream",
     "text": [
      "Knn with K =3 train score:0.9428571428571428\n",
      "Knn with K =3 test score:0.9777777777777777\n"
     ]
    }
   ],
   "source": [
    "neigh = KNeighborsClassifier(n_neighbors=3, metric = 'manhattan')\n",
    "neigh.fit(X_train, y_train)\n",
    "train_score = neigh.score(X_train, y_train)\n",
    "test_score = neigh.score(X_test, y_test)\n",
    "print('Knn with K =3 train score:{}'.format(train_score))\n",
    "print('Knn with K =3 test score:{}'.format(test_score))\n"
   ]
  },
  {
   "cell_type": "code",
   "execution_count": 19,
   "metadata": {},
   "outputs": [
    {
     "name": "stdout",
     "output_type": "stream",
     "text": [
      "[[13  0  0]\n",
      " [ 0 15  0]\n",
      " [ 0  1 16]]\n"
     ]
    }
   ],
   "source": [
    "from sklearn.metrics import confusion_matrix\n",
    "y_pred = neigh.predict(X_test)\n",
    "y_true = y_test\n",
    "cm = confusion_matrix(y_true, y_pred)\n",
    "print(cm)"
   ]
  },
  {
   "cell_type": "code",
   "execution_count": 20,
   "metadata": {},
   "outputs": [
    {
     "data": {
      "image/png": "[encoded data removed]",
      "text/plain": [
       "<Figure size 432x288 with 2 Axes>"
      ]
     },
     "metadata": {
      "needs_background": "light"
     },
     "output_type": "display_data"
    }
   ],
   "source": [
    "from sklearn.metrics import ConfusionMatrixDisplay\n",
    "cm_display = ConfusionMatrixDisplay(cm).plot()"
   ]
  },
  {
   "cell_type": "code",
   "execution_count": 21,
   "metadata": {},
   "outputs": [
    {
     "name": "stdout",
     "output_type": "stream",
     "text": [
      "              precision    recall  f1-score   support\n",
      "\n",
      "      setosa       1.00      1.00      1.00        13\n",
      "  versicolor       0.94      1.00      0.97        15\n",
      "   virginica       1.00      0.94      0.97        17\n",
      "\n",
      "    accuracy                           0.98        45\n",
      "   macro avg       0.98      0.98      0.98        45\n",
      "weighted avg       0.98      0.98      0.98        45\n",
      "\n"
     ]
    }
   ],
   "source": [
    "from sklearn.metrics import classification_report\n",
    "print(classification_report(y_true, y_pred, target_names=iris_data.target_names))"
   ]
  },
  {
   "cell_type": "code",
   "execution_count": null,
   "metadata": {},
   "outputs": [],
   "source": [
    "#Exercises\n",
    "# 1. Try KNeighborsClassifier() on breast_cancer data for teh follwoing parameetrs\n",
    "#    different K values\n",
    "#    different distance metrics (manhattan, euclidean etc.)\n",
    "#    weights of the neigbours (uniform, distance etc..)\n",
    "#    different data structures, bruteforce, kdtree, balltree\n",
    "#    diffeerent leaf node sizes\n",
    "#    print k neighbors graph\n",
    "#    draw plot - K vs test accuracy\n",
    "\n",
    "# 2. Try RadiusNeighborsClassifier() on wines dataset \n",
    "#    for various r params\n",
    "#    draw plot -  r vs test accuracy\n",
    "\n",
    "# 3. Try KNeighborsRegressor() on boston house prices dataset or Diabetes dataset\n",
    "#    different K values\n",
    "#    different distance metrics (manhattan, euclidean etc.)\n",
    "#    weights of the neigbours (uniform, distance etc..)\n",
    "#    different data structures, bruteforce, kdtree, balltree\n",
    "#    diffeerent leaf node sizes\n",
    "#    print k neighbors graph\n",
    "#    draw plot - K vs test accuracy"
   ]
  }
 ],
 "metadata": {
  "kernelspec": {
   "display_name": "Python 3 (ipykernel)",
   "language": "python",
   "name": "python3"
  },
  "language_info": {
   "codemirror_mode": {
    "name": "ipython",
    "version": 3
   },
   "file_extension": ".py",
   "mimetype": "text/x-python",
   "name": "python",
   "nbconvert_exporter": "python",
   "pygments_lexer": "ipython3",
   "version": "3.9.7"
  }
 },
 "nbformat": 4,
 "nbformat_minor": 2
}
